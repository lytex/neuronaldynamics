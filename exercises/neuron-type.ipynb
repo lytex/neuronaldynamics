{
 "cells": [
  {
   "cell_type": "markdown",
   "metadata": {},
   "source": [
    "# Type I and type II neuron models\n",
    "\n",
    "**Book chapters**\n",
    "\n",
    "See [Chapter 4](http://neuronaldynamics.epfl.ch/online/Ch4.html) and especially [Chapter 4 Section 4](http://neuronaldynamics.epfl.ch/online/Ch4.S4.html) for background knowledge on Type I and Type II neuron\n",
    "models.\n",
    "\n",
    "**Python classes**\n",
    "\n",
    "The `neurodynex.neuron_type.neurons` module contains all classes required for this exercise. To get started, call `getting_started` or copy the following code into your Jupyter notebook:"
   ]
  },
  {
   "cell_type": "markdown",
   "metadata": {
    "hide-output": false
   },
   "source": [
    "```python\n",
    "%matplotlib inline  # needed in Notebooks, not in Python scripts\n",
    "import brian2 as b2\n",
    "import matplotlib.pyplot as plt\n",
    "import numpy as np\n",
    "from neurodynex.tools import input_factory, plot_tools, spike_tools\n",
    "from neurodynex.neuron_type import neurons\n",
    "\n",
    "# create an input current\n",
    "input_current = input_factory.get_step_current(50, 150, 1.*b2.ms, 0.5*b2.pA)\n",
    "\n",
    "# get one instance of class NeuronX and save that object in the variable 'a_neuron_of_type_X'\n",
    "a_neuron_of_type_X = neurons.NeuronX()  # we do not know if it's type I or II\n",
    "# simulate it and get the state variables\n",
    "state_monitor = a_neuron_of_type_X.run(input_current, 200*b2.ms)\n",
    "# plot state vs. time\n",
    "neurons.plot_data(state_monitor, title=\"Neuron of Type X\")\n",
    "\n",
    "# get an instance of class NeuronY\n",
    "a_neuron_of_type_Y = neurons.NeuronY()  # we do not know if it's type I or II\n",
    "state_monitor = a_neuron_of_type_Y.run(input_current, 200*b2.ms)\n",
    "neurons.plot_data(state_monitor, title=\"Neuron of Type Y\")\n",
    "```\n"
   ]
  },
  {
   "cell_type": "markdown",
   "metadata": {},
   "source": [
    ">**Note**\n",
    ">\n",
    ">For those who are interested, [here is more about classes and inheritance in Python](https://en.wikibooks.org/wiki/Python_Programming/Classes)."
   ]
  },
  {
   "cell_type": "markdown",
   "metadata": {},
   "source": [
    "## Exercise: Probing Type I and Type II neuron models\n",
    "\n",
    "This exercise deals not only with Python functions, but with python objects. The classes `NeuronX` and `NeuronY` both are neurons, that have different dynamics: **one is Type I and one is Type II**. Finding out which class implements which dynamics is the goal of the exercise.\n",
    "\n",
    "The types get randomly assigned each time you load the module or you call the function `neurons.neurontype_random_reassignment()`."
   ]
  },
  {
   "cell_type": "markdown",
   "metadata": {},
   "source": [
    "### Question: Estimating the threshold\n",
    "\n",
    "What is the threshold current for repetitive firing for `NeuronX` and `NeuronY`?\n",
    "\n",
    "Exploring various values of `I_amp`, find the range in which the threshold occurs, to a precision of 0.01.\n",
    "\n",
    "Plot the responses to step current which starts after 100ms (to let the system equilibrate) and lasting at least 1000ms (to detect repetitive firing with a long period). You can do this by modifying the code example given above. Make sure to check the documentation of the functions you use: `input_factory.get_step_current()`, `neuron_type.neurons.run()` and `neuron_type.neurons.plot_data()`.\n",
    "\n",
    "Already from the voltage response near threshold you might have an idea which is type I or II, but let’s investigate further."
   ]
  },
  {
   "cell_type": "markdown",
   "metadata": {},
   "source": [
    "## Exercise: f-I curves\n",
    "\n",
    "In this exercise you will write a python script that plots the f-I curve for type I and type II neuron models."
   ]
  },
  {
   "cell_type": "markdown",
   "metadata": {},
   "source": [
    "### Get firing rates from simulations\n",
    "\n",
    "We provide you with a function `spike_tools.get_spike_time()` to determine the spike times from a StateMonitor. The following code shows how to use that function. Note that the return value is a Brian Quantity: it has units. If you write code using units, you’ll get consistency checks done by Brian."
   ]
  },
  {
   "cell_type": "markdown",
   "metadata": {
    "hide-output": false
   },
   "source": [
    "```python\n",
    "input_current = input_factory.get_step_current(100, 110, b2.ms, 0.5*b2.pA)\n",
    "state_monitor = a_neuron_of_type_X.run(input_current, ...)\n",
    "spike_times = spike_tools.get_spike_time(state_monitor, ...)\n",
    "print(spike_times)\n",
    "print(type(spike_times))  # it's a Quantity\n",
    "```\n"
   ]
  },
  {
   "cell_type": "markdown",
   "metadata": {},
   "source": [
    "Now **write a new function** (in your own .py file or in your Jupyter Notebook) that calculates an estimate of the firing rate. In your function use `spike_tools.get_spike_time()`"
   ]
  },
  {
   "cell_type": "markdown",
   "metadata": {
    "hide-output": false
   },
   "source": [
    "```python\n",
    "def get_firing_rate(neuron, input_current, spike_threshold):\n",
    "\n",
    "    # inject a test current into the neuron and call it's run() function.\n",
    "    # get the spike times using spike_tools.get_spike_times\n",
    "    # from the spike times, calculate the firing rate f\n",
    "\n",
    "    return f\n",
    "```\n"
   ]
  },
  {
   "cell_type": "markdown",
   "metadata": {},
   "source": [
    ">**Note**\n",
    ">\n",
    ">To calculate the firing rate, first calculate the inter-spike intervals (time difference between spikes) from the spike times using this elegant indexing idiom"
   ]
  },
  {
   "cell_type": "markdown",
   "metadata": {
    "hide-output": false
   },
   "source": [
    "```python\n",
    "isi = st[1:]-st[:-1]\n",
    "```\n"
   ]
  },
  {
   "cell_type": "markdown",
   "metadata": {},
   "source": [
    "Then find the mean isi and take the reciprocal to yield the firing-rate. As these are standard operations, you can expect that someone else has already implemented it. Have a look at the numpy package and look up the functions diff and mean. Once you have implemented your function, you should verify it’s correctness: inject a few currents into your neuron, plot the voltage response and compare the plot with the firing rate computed by your function.\n",
    "\n",
    ">**Note**\n",
    ">\n",
    ">You can check your results by calling:"
   ]
  },
  {
   "cell_type": "markdown",
   "metadata": {
    "hide-output": false
   },
   "source": [
    "```python\n",
    "spike_tools.pretty_print_spike_train_stats(...)\n",
    "```\n"
   ]
  },
  {
   "cell_type": "markdown",
   "metadata": {},
   "source": [
    "### Plot the f-I curve\n",
    "\n",
    "Now let’s use your function `get_firing_rate` to plot an f-vs-I curve for both neuron classes.\n",
    "\n",
    "Add the following function skeleton to your code and complete it to plot the f-I curve, given the neuron class as an argument:"
   ]
  },
  {
   "cell_type": "markdown",
   "metadata": {
    "hide-output": false
   },
   "source": [
    "```python\n",
    "import matplotlib.pyplot as plt\n",
    "import numpy as np\n",
    "\n",
    "def plot_fI_curve(NeuronClass):\n",
    "\n",
    "    plt.figure()  # new figure\n",
    "\n",
    "    neuron = NeuronClass()  # instantiate the neuron class\n",
    "\n",
    "    I = np.arange(0.0,1.1,0.1)  # a range of current inputs\n",
    "    f = []\n",
    "\n",
    "    # loop over current values\n",
    "    for I_amp in I:\n",
    "\n",
    "        firing_rate = # insert here a call to your function get_firing_rate( ... )\n",
    "\n",
    "        f.append(firing_rate)\n",
    "\n",
    "    plt.plot(I, f)\n",
    "    plt.xlabel('Amplitude of Injecting step current (pA)')\n",
    "    plt.ylabel('Firing rate (Hz)')\n",
    "    plt.grid()\n",
    "    plt.show()\n",
    "```\n"
   ]
  },
  {
   "cell_type": "markdown",
   "metadata": {},
   "source": [
    "- Call your `plot_fI_curve` function with each class `NeuronX` and `NeuronY` as argument.  \n",
    "- Change the `I` range (and reduce the step size) to zoom in near the threshold, and try running it again for both classes.  \n",
    "\n",
    "\n",
    "Which class is Type I and which is Type II? Check your result:"
   ]
  },
  {
   "cell_type": "markdown",
   "metadata": {
    "hide-output": false
   },
   "source": [
    "```py\n",
    "print(\"a_neuron_of_type_X is : {}\".format(a_neuron_of_type_X.get_neuron_type()))\n",
    "print(\"a_neuron_of_type_Y is : {}\".format(a_neuron_of_type_Y.get_neuron_type()))\n",
    "```\n"
   ]
  }
 ],
 "metadata": {
  "filename": "neuron-type.rst",
  "kernelspec": {
   "display_name": "Python",
   "language": "python3",
   "name": "python3"
  },
  "title": "Type I and type II neuron models"
 },
 "nbformat": 4,
 "nbformat_minor": 2
}