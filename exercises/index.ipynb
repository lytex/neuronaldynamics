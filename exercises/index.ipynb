{
 "cells": [
  {
   "cell_type": "markdown",
   "metadata": {},
   "source": [
    "\n",
    "<a id='exercises-index'></a>"
   ]
  },
  {
   "cell_type": "markdown",
   "metadata": {},
   "source": [
    "# Exercises\n",
    "\n",
    "- [Setting up Python and Brian](setup.ipynb)\n",
    "- [Leaky-integrate-and-fire model](leaky-integrate-and-fire.ipynb)\n",
    "- [The Exponential Integrate-and-Fire model](exponential-integrate-and-fire.ipynb)\n",
    "- [AdEx: the Adaptive Exponential Integrate-and-Fire model](adex-model.ipynb)\n",
    "- [Dendrites and the (passive) cable equation](passive-cable.ipynb)\n",
    "- [Numerical integration of the HH model of the squid axon](hodgkin-huxley.ipynb)\n",
    "- [FitzHugh-Nagumo: Phase plane and bifurcation analysis](phase-plane-analysis.ipynb)\n",
    "- [Hopfield Network model of associative memory](hopfield-network.ipynb)\n",
    "- [Type I and type II neuron models](neuron-type.ipynb)\n",
    "- [Oja’s hebbian learning rule](ojas-rule.ipynb)\n",
    "- [Network of LIF neurons (Brunel)](brunel-network.ipynb)\n",
    "- [Spatial Working Memory (Compte et. al.)](spatial-working-memory.ipynb)\n",
    "- [Perceptual Decision Making (Wong & Wang)](perceptual-decision-making.ipynb)"
   ]
  }
 ],
 "metadata": {
  "filename": "index.rst",
  "kernelspec": {
   "display_name": "Python",
   "language": "python3",
   "name": "python3"
  },
  "title": "Exercises"
 },
 "nbformat": 4,
 "nbformat_minor": 2
}