{
 "cells": [
  {
   "cell_type": "markdown",
   "metadata": {},
   "source": [
    "# Network of LIF neurons (Brunel)\n",
    "\n",
    "In this exercise we study a well known network of sparsely connected Leaky-Integrate-And-Fire neurons (Brunel, 2000).\n",
    "\n",
    "**Book chapters**\n",
    "\n",
    "The Brunel model is introduced in [Chapter 13 Section 4.2](http://neuronaldynamics.epfl.ch/online/Ch13.S4.html) . The network structure is shown in figure 13.6b. Read the section “Synchrony, oscillations, and irregularity” and have a look at Figure 13.7. For this exercise, you can skip the explanations related to the Fokker-Planck equation.\n",
    "\n",
    "**Python classes**\n",
    "\n",
    "The module `brunel_model.LIF_spiking_network` implements a parametrized network. The figure below shows the simulation result using the default configuration.\n",
    "\n",
    "![exercises/exc_images/Brunel_Spiking_LIF.png](exercises/exc_images/Brunel_Spiking_LIF.png)Simulation result. Top: raster plot of 150 randomly selected neurons. Three spike trains are visually highlighted. Middle: time evolution of the population activity A(t). Bottom: Membrane voltage of three neurons. The red color in the top and bottom panels identifies the same neuron.  \n",
    "To get started, call the function  `brunel_model.LIF_spiking_network.getting_started()` or copy the following code into a Jupyter notebook."
   ]
  },
  {
   "cell_type": "markdown",
   "metadata": {
    "hide-output": false
   },
   "source": [
    "```py\n",
    "%matplotlib inline\n",
    "from neurodynex.brunel_model import LIF_spiking_network\n",
    "from neurodynex.tools import plot_tools\n",
    "import brian2 as b2\n",
    "\n",
    "rate_monitor, spike_monitor, voltage_monitor, monitored_spike_idx = LIF_spiking_network.simulate_brunel_network(sim_time=250. * b2.ms)\n",
    "plot_tools.plot_network_activity(rate_monitor, spike_monitor, voltage_monitor, spike_train_idx_list=monitored_spike_idx, t_min=0.*b2.ms)\n",
    "```\n"
   ]
  },
  {
   "cell_type": "markdown",
   "metadata": {},
   "source": [
    "Note that you can change all parameters of the neuron by using the named parameters of the function `simulate_brunel_network()`. If you do not specify any parameter, the default values are used (see next code block). You can access these variables in your code by prefixing them with the module name (for example LIF_spiking_network.POISSON_INPUT_RATE)."
   ]
  },
  {
   "cell_type": "markdown",
   "metadata": {
    "hide-output": false
   },
   "source": [
    "```py\n",
    "# Default parameters of a single LIF neuron:\n",
    "V_REST = 0. * b2.mV\n",
    "V_RESET = +10. * b2.mV\n",
    "FIRING_THRESHOLD = +20. * b2.mV\n",
    "MEMBRANE_TIME_SCALE = 20. * b2.ms\n",
    "ABSOLUTE_REFRACTORY_PERIOD = 2.0 * b2.ms\n",
    "\n",
    "# Default parameters of the network\n",
    "SYNAPTIC_WEIGHT_W0 = 0.1 * b2.mV  # note: w_ee=w_ie = w0 and = w_ei=w_ii = -g*w0\n",
    "RELATIVE_INHIBITORY_STRENGTH_G = 4.  # balanced\n",
    "CONNECTION_PROBABILITY_EPSILON = 0.1\n",
    "SYNAPTIC_DELAY = 1.5 * b2.ms\n",
    "POISSON_INPUT_RATE = 12. * b2.Hz\n",
    "N_POISSON_INPUT = 1000\n",
    "```\n"
   ]
  },
  {
   "cell_type": "markdown",
   "metadata": {},
   "source": [
    "## Exercise: model parameters and threshold rate\n",
    "\n",
    "In the first exercise, we get familiar with the model and parameters. Make sure you have read the [book chapter](http://neuronaldynamics.epfl.ch/online/Ch13.S4.html) . Then have a look at the documentation of `simulate_brunel_network()`. Note that in our implementation, the number of excitatory presynaptic poisson neurons (input from the external population) is a parameter N_extern and thus independent of CE."
   ]
  },
  {
   "cell_type": "markdown",
   "metadata": {},
   "source": [
    "### Question:\n",
    "\n",
    "- Run the simulation with the default parameters (see code block above). In that default configuration, what values  take the variables $ N_E $, $ N_I $, $ C_E $, $ C_I $, $ w_{EE} $, $ w_{EI} $, $ w_{IE} $, and $ w_{II} $? The variables are described in the book and in [Fig. 13.6](http://neuronaldynamics.epfl.ch/online/Ch13.S4.html)  \n",
    "- What are the units of the weights w?  \n",
    "- The frequency $ \\nu_{threshold} $ is is the poisson rate of the external population sufficient to drive the neurons in the network to the firing threshold. Using Eq. [(1)](#equation-eq-nu-threshold), compute $ \\nu_{threshold} $. You can do this in Python, e.g. use LIF_spiking_network.FIRING_THRESHOLD for $ u_{thr} $, etc.  \n",
    "- Refering to Figure 13.7, left panel, what is the meaning of the value 1 on the y-axis (Input). What is the horizontal dashed line designating? How is it related to $ u_{thr} $?  \n",
    "- Run a simulation  for 500ms. Set poisson_input_rate to $ \\nu_{threshold} $. Plot the network activity in the time interval [0ms, 500ms]. Is the network quiet (Q)?  \n",
    "- During the simulation time, what is the average firing rate of a single neuron? You can access the total number of spikes from the Brian2.SpikeMonitor: spike_monitor.num_spikes and the number of neurons in the network from spike_monitor.source.N .  \n",
    "\n",
    "\n",
    "\n",
    "<a id='equation-eq-nu-threshold'></a>\n",
    "$$\n",
    "\\nu_{threshold} = \\frac{u_{thr}}{N_{extern} w_{0} \\tau_m} \\tag{1}\n",
    "$$"
   ]
  },
  {
   "cell_type": "markdown",
   "metadata": {},
   "source": [
    "## Exercise: Population activity\n",
    "\n",
    "The network of spiking LIF-neurons shows characteristic population activities. In this exercise we investigate the patterns asynchronous irregular (AI), synchronous regular (SR), fast synchronous irregular (SI fast) and slow synchronous irregular (SI slow)."
   ]
  },
  {
   "cell_type": "markdown",
   "metadata": {},
   "source": [
    "### Question: Network states\n",
    "\n",
    "- The function `simulate_brunel_network()` gives you three options to vary the input strength (y-axis in figure 13.7, a). What options do you have?  \n",
    "- Which parameter of the function `simulate_brunel_network()` lets you change the relative strength of inhibition (the x-axis in figure 13.7, a)?  \n",
    "- Define a network of 6000 excitatory and 1500 inhibitory neurons. Find the appropriate parameters and simulate the network in the regimes AI, SR, SI-fast and SI-slow. For each of the four configurations, plot the network activity and compute the average firing rate. Run each simulation for at least 1000ms and plot two figures for each simulation: one showing the complete simulation time and one showing only the last ~50ms.  \n",
    "- What is the  population activity A(t) in each of the four conditions (in Hz, averaged over the last 200ms of your simulation)?  "
   ]
  },
  {
   "cell_type": "markdown",
   "metadata": {},
   "source": [
    "### Question: Interspike interval (ISI)  and Coefficient of Variation (CV)\n",
    "\n",
    "Before answering the questions, make sure you understand the notions ISI and CV. If necessary, read [Chapter 7.3.1](http://neuronaldynamics.epfl.ch/online/Ch7.S3.html) .\n",
    "\n",
    "- What is the CV of a Poisson neuron?  \n",
    "- From the four figures plotted in the previous question, qualitatively interpret the spike trains and the population activity in each of the four regimes:  \n",
    "  \n",
    "  - What is the mean firing rate of a single neuron (only a rough estimate).  \n",
    "  - Sketch the ISI histogram. (is it peaked or broad? where’s the maximum?)  \n",
    "  - Estimate the CV. (is it <1, <<1, =1, >1 ?)  \n",
    "  \n",
    "- Validate your estimates using the functions `spike_tools.get_spike_train_stats()` and `plot_tools.plot_ISI_distribution()`. Use the code block provided here.  \n",
    "- Make sure you understand the code block. Why is the function .spike_tools.get_spike_train_stats called with the parameter window_t_min=100.*b2.ms?  "
   ]
  },
  {
   "cell_type": "markdown",
   "metadata": {
    "hide-output": false
   },
   "source": [
    "```py\n",
    "%matplotlib inline\n",
    "from neurodynex.brunel_model import LIF_spiking_network\n",
    "from neurodynex.tools import plot_tools, spike_tools\n",
    "import brian2 as b2\n",
    "\n",
    "poisson_rate = ??? *b2.Hz\n",
    "g = ???\n",
    "CE = ???\n",
    "simtime = ??? *b2.ms\n",
    "\n",
    "rate_monitor, spike_monitor, voltage_monitor, monitored_spike_idx = LIF_spiking_network.simulate_brunel_network(N_Excit=CE, poisson_input_rate=poisson_rate, g=g, sim_time=simtime)\n",
    "plot_tools.plot_network_activity(rate_monitor, spike_monitor, voltage_monitor, spike_train_idx_list=monitored_spike_idx, t_min = 0*b2.ms)\n",
    "plot_tools.plot_network_activity(rate_monitor, spike_monitor, voltage_monitor, spike_train_idx_list=monitored_spike_idx, t_min = simtime - ??? *b2.ms)\n",
    "spike_stats = spike_tools.get_spike_train_stats(spike_monitor, window_t_min= 100 *b2.ms)\n",
    "plot_tools.plot_ISI_distribution(spike_stats, hist_nr_bins=100, xlim_max_ISI= ??? *b2.ms)\n",
    "```\n"
   ]
  },
  {
   "cell_type": "markdown",
   "metadata": {},
   "source": [
    "- In the Synchronous Repetitive (SR) state, what is the dominant frequency of the population activity A(t)? Compare this frequency to the firing frequency of a single neuron. You can do this “visually” using the plots created by `plot_tools.plot_network_activity()` or by solving the bonus exercise below.  "
   ]
  },
  {
   "cell_type": "markdown",
   "metadata": {},
   "source": [
    "## Exercise: Emergence of Synchronization\n",
    "\n",
    "The different regimes emerge from from the recurrence and the relative strength of inhibition g. In the absence of recurrent feedback from the network, the network would approach a constant mean activity A(t)."
   ]
  },
  {
   "cell_type": "markdown",
   "metadata": {},
   "source": [
    "### Question:\n",
    "\n",
    "- Simulate a network of 6000 excitatory and 1500 inhibitory neurons. Set the following parameters: poisson_rate = 14*b2.Hz, g=2.5. In which state is this network?  \n",
    "- What would be the population activity caused by the external input only? We can simulate this. Run a simulation of the same network, but disable the recurrent feedback: simulate_brunel_network(…,w0=0.*b2.mV, w_external = LIF_spiking_network.SYNAPTIC_WEIGHT_W0).  \n",
    "- Explain why the non-recurrent network shows a strong synchronization in the beginning and why this synchronization fades out.  \n",
    "- The non recurrent network is strongly synchronized in the beginning. Is the connected network simply “locked” to this initial synchronization? You can falsify this hypothesis by initializing each neuron in the network with a random vm. Run the simulation with random_vm_init=True to see how the synchronization emerges over time.  \n",
    "\n",
    "\n",
    "![exercises/exc_images/Brunel_Synchronization.png](exercises/exc_images/Brunel_Synchronization.png)Simulation of a network with random v_m initialization. The synchronization of the neurons is not a residue of shared initial conditions, but emerges over time.  "
   ]
  },
  {
   "cell_type": "markdown",
   "metadata": {},
   "source": [
    "## Bonus: Power Spectrum of the Population Activity\n",
    "\n",
    "We can get more insights into the statistics of the network activity by analysing the power spectrum of the spike trains and the population activity. The four regimes (SR, AI, SI fast, SI slow) are characterized by *two* properties: the regularity/irregularity of individual neuron’s spike trains *and* the stationary/oscillatory pattern of the population activity A(t). We transform the spike trains and A(t) into the frequency domain to identify regularities."
   ]
  },
  {
   "cell_type": "markdown",
   "metadata": {},
   "source": [
    "### Question: Sampling the Population Activity\n",
    "\n",
    "- When analysing the population activity A(t), what is the lowest/highest frequency we are interested?  \n",
    "\n",
    "\n",
    "The highest frequency $ f_{max} $ one can resolve from the time series A(t) is determined by $ \\Delta t $. Even if we are not interested in very high frequencies, we should not increase $ \\Delta t $ (too much) because it may affect the accuracy of the simulation.\n",
    "\n",
    "The lowest frequency $ \\Delta f $ is determined by the signal length $ T_{Simulation} $. We could therefore decrease the simulation duration if we accept decreasing the resolution in the frequency domain. But there is another option: We still use a “too long” simulation time $ T_{Simulation} $ but then split the RateMonitor.rate signal into $ k $ chunks of duration $ T_{Signal} $. We can then average the power across the $ k $ repetitions. This is what the function `spike_tools.get_population_activity_power_spectrum()` does -  we just have to get the parameters first:\n",
    "\n",
    "- Given the values $ \\Delta f = 5 Hz, \\Delta t = 0.1ms, T_{init}=100ms, k=5 $, compute $ T_{Signal} $ and $ T_{Simulation} $.  \n",
    "\n",
    "\n",
    "\n",
    "<a id='equation-eq-fourier-transform-params'></a>\n",
    "$$\n",
    "\\begin{array}{ccll}\n",
    " f_{max} = \\frac{f_{Sampling}}{2} = \\frac{1}{2 \\cdot \\Delta t} \\\\[.2cm]\n",
    "N \\cdot \\Delta t = T_{Signal} \\\\[.2cm]\n",
    "2 \\cdot f_{max} = N \\cdot \\Delta f \\\\[.2cm]\n",
    "T_{Simulation} = k \\cdot T_{Signal} + T_{init};  k \\in N \\\\\n",
    "\\end{array} \\tag{2}\n",
    "$$\n",
    "\n",
    "$ f_{Sampling} $: sampling frequency of the signal;\n",
    "$ f_{max} $: highest frequency component;\n",
    "$ \\Delta f $: frequency resolution in fourier domain = lowest frequency component;\n",
    "$ T_{Signal} $ length of the signal;\n",
    "$ \\Delta t $: temporal resolution of the signal;\n",
    "$ N $: Number of samples (same in time- and frequency- domain)\n",
    "$ T_{Simulation} $: simulation time;\n",
    "$ k $: k repetitions of the signal;\n",
    "$ T_{init} $: initial part of the simulation (not used for data analysis);"
   ]
  },
  {
   "cell_type": "markdown",
   "metadata": {},
   "source": [
    "### Question: Sampling a Single Neuron Spike Train\n",
    "\n",
    "- The sampling of the individual neuron’s spike train is different because in that case, the signal is given as a list of timestamps (SpikeMonitor.spike_trains) and needs to be transformed into a binary vector. This is done inside the function `spike_tools.get_averaged_single_neuron_power_spectrum()`. Read the doc to learn how to control the sampling rate.  \n",
    "- The firing rate of a single neuron can be very low and very different from one neuron to another. For that reason, we do not split the spike train into k realizations but we analyse the full spike train ($ T_{Simulation}-T_{init} $). From the simulation, we get many (CE+CI) spike trains and we can  average across a subset of neurons. Check the doc of `spike_tools.get_averaged_single_neuron_power_spectrum()` to learn how to control the number of neurons of this subset.  "
   ]
  },
  {
   "cell_type": "markdown",
   "metadata": {},
   "source": [
    "### Question: Single Neuron activity vs. Population Activity\n",
    "\n",
    "We can now compute and plot the power spectrum.\n",
    "\n",
    "- For each network states SR, AI, SI fast, SI slow, find the parameters, then compute and plot the power spectrum using the script given here. Make sure you understand the script and read the documentation of the functions `spike_tools.get_averaged_single_neuron_power_spectrum()`, `plot_tools.plot_spike_train_power_spectrum()`, `spike_tools.get_population_activity_power_spectrum()`, and `plot_tools.plot_population_activity_power_spectrum()`.  \n",
    "- Discuss power spectra of the states SR, AI, SI fast and SI slow. Compare the individual neuron’s spike train powers to the averaged power spectrum and to the power spectrum of A(t).  "
   ]
  },
  {
   "cell_type": "markdown",
   "metadata": {
    "hide-output": false
   },
   "source": [
    "```py\n",
    "%matplotlib inline\n",
    "from neurodynex.brunel_model import LIF_spiking_network\n",
    "from neurodynex.tools import plot_tools, spike_tools\n",
    "import brian2 as b2\n",
    "\n",
    "# Specify the parameters of the desired network state (e.g. SI fast)\n",
    "poisson_rate = ??? *b2.Hz\n",
    "g = ???\n",
    "CE = ???\n",
    "\n",
    "# Specify the signal and simulation properties:\n",
    "delta_t = ??? * b2.ms\n",
    "delta_f = ??? * b2.Hz\n",
    "T_init = ??? * b2.ms\n",
    "k = ???\n",
    "\n",
    "# compute the remaining values:\n",
    "f_max = ???\n",
    "N_samples = ???\n",
    "T_signal = ???\n",
    "T_sim = k * T_signal + T_init\n",
    "\n",
    "# replace the ??? by appropriate values:\n",
    "\n",
    "print(\"Start simulation. T_sim={}, T_signal={}, N_samples={}\".format(T_sim, T_signal, N_samples))\n",
    "b2.defaultclock.dt = delta_t\n",
    "# for technical reason (solves rounding issues), we add a few extra samples:\n",
    "stime = T_sim + (10 + k) * b2.defaultclock.dt\n",
    "rate_monitor, spike_monitor, voltage_monitor, monitored_spike_idx = \\\n",
    "    LIF_spiking_network.simulate_brunel_network(\n",
    "        N_Excit=CE, poisson_input_rate=poisson_rate, g=g, sim_time=stime)\n",
    "\n",
    "plot_tools.plot_network_activity(rate_monitor, spike_monitor, voltage_monitor,\n",
    "                                 spike_train_idx_list=monitored_spike_idx, t_min=0*b2.ms)\n",
    "plot_tools.plot_network_activity(rate_monitor, spike_monitor, voltage_monitor,\n",
    "                                 spike_train_idx_list=monitored_spike_idx, t_min=T_sim - ??? *b2.ms)\n",
    "spike_stats = spike_tools.get_spike_train_stats(spike_monitor, window_t_min= T_init)\n",
    "plot_tools.plot_ISI_distribution(spike_stats, hist_nr_bins= ???, xlim_max_ISI= ??? *b2.ms)\n",
    "\n",
    "#  Power Spectrum\n",
    "pop_freqs, pop_ps, average_population_rate = \\\n",
    "    spike_tools.get_population_activity_power_spectrum(\n",
    "        rate_monitor, delta_f, k, T_init)\n",
    "plot_tools.plot_population_activity_power_spectrum(pop_freqs, pop_ps, ??? *b2.Hz, average_population_rate)\n",
    "freq, mean_ps, all_ps, mean_firing_rate, all_mean_firing_freqs = \\\n",
    "    spike_tools.get_averaged_single_neuron_power_spectrum(\n",
    "        spike_monitor, sampling_frequency=1./delta_t, window_t_min= T_init,\n",
    "        window_t_max=T_sim, nr_neurons_average= ??? )\n",
    "plot_tools.plot_spike_train_power_spectrum(freq, mean_ps, all_ps, max_freq= ??? * b2.Hz,\n",
    "                                           mean_firing_freqs_per_neuron=all_mean_firing_freqs,\n",
    "                                           nr_highlighted_neurons=2)\n",
    "print(\"done\")\n",
    "```\n"
   ]
  },
  {
   "cell_type": "markdown",
   "metadata": {},
   "source": [
    "The figures below show the type of analysis you can do with this script. The first figure shows the last 80ms of a network simulation. The second figure the power spectrum of the population activity A(t) and the third figure shows the power spectrum of single neurons (individual neurons and averaged across neurons). Note the qualitative difference between the spectral density of the population and that of the individual neurons.\n",
    "\n",
    "![exercises/exc_images/Brunel_SIfast_activity.png](exercises/exc_images/Brunel_SIfast_activity.png)  \n",
    "![exercises/exc_images/Brunel_SIfast_PSpop.png](exercises/exc_images/Brunel_SIfast_PSpop.png)  \n",
    "![exercises/exc_images/Brunel_SIfast_PSsingle.png](exercises/exc_images/Brunel_SIfast_PSsingle.png)Single neurons (red, grey) fire irregularly **(I)** while the population activity oscillates **(S)**.  "
   ]
  }
 ],
 "metadata": {
  "filename": "brunel-network.rst",
  "kernelspec": {
   "display_name": "Python",
   "language": "python3",
   "name": "python3"
  },
  "title": "Network of LIF neurons (Brunel)"
 },
 "nbformat": 4,
 "nbformat_minor": 2
}