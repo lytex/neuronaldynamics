{
 "cells": [
  {
   "cell_type": "markdown",
   "metadata": {},
   "source": [
    "\n",
    "<a id='exercises-setup'></a>"
   ]
  },
  {
   "cell_type": "markdown",
   "metadata": {},
   "source": [
    "# Setting up Python and Brian\n",
    "\n",
    "To solve the exercises you need to install Python, Brian2 and the neurodynex package. The installation procedure we described here focuses on the tools we use in the classroom sessions at EPFL. For that reason we additionally set up a **conda environment** (which we call bmnn below) and install [Jupyter](http://jupyter.readthedocs.io/en/latest/install.html) .\n",
    "\n",
    "\n",
    "<a id='exercises-setup-conda'></a>"
   ]
  },
  {
   "cell_type": "markdown",
   "metadata": {},
   "source": [
    "## Using miniconda\n",
    "\n",
    "We offer anaconda packages for the most recent releases, which is the easiest way of running the exercises. (Alternatively you can clone the sources from github)\n",
    "\n",
    "Head over to the [miniconda download page](http://conda.pydata.org/miniconda.html) and install **miniconda** (for Python 2.7 preferably).\n",
    "\n",
    "Now execute the following commands to **install** the exercise package as well as **Brian2** and some dependencies. Note: we create a [conda environment](http://conda.pydata.org/docs/test-drive.html#managing-envs) called ‘bmnn’. You may want to change that name. In the last command we install [Jupyter](http://jupyter.org) , a handy tool to create solution documents."
   ]
  },
  {
   "cell_type": "markdown",
   "metadata": {
    "hide-output": false
   },
   "source": [
    "```bash\n",
    ">> conda create --name bmnn python=2.7\n",
    ">> source activate bmnn\n",
    ">> conda install -c brian-team -c epfl-lcn neurodynex\n",
    ">> conda install jupyter\n",
    "```\n"
   ]
  },
  {
   "cell_type": "markdown",
   "metadata": {},
   "source": [
    "If you need to  **update** the exercise package, call:"
   ]
  },
  {
   "cell_type": "markdown",
   "metadata": {
    "hide-output": false
   },
   "source": [
    "```bash\n",
    ">> source activate bmnn\n",
    ">> conda update -c brian-team -c epfl-lcn neurodynex\n",
    "```\n"
   ]
  },
  {
   "cell_type": "markdown",
   "metadata": {},
   "source": [
    "You now have the tools you need to solve the python exercises. To get started, open a terminal, move to the folder where you want your code being stored and start a Jupyter notebook:"
   ]
  },
  {
   "cell_type": "markdown",
   "metadata": {
    "hide-output": false
   },
   "source": [
    "```bash\n",
    ">> cd your_folder\n",
    ">> source activate bmnn\n",
    ">> jupyter notebook\n",
    "```\n"
   ]
  },
  {
   "cell_type": "markdown",
   "metadata": {},
   "source": [
    "![exercises/exc_images/StartJupyter.png](exercises/exc_images/StartJupyter.png)Starting Jupyter will open your browser. Select NEW, Python2 to get a new notebook page. Depending on what else you have installed on your computer, you may have to specify the kernel. In the case shown here, it’s the Python-bmnn installation.Once you’ve create a new notebook, copy-paste the code of exercise one into the notebook and run it. Note that the first time you do this, the execution may take a little longer and, in some cases, you may see compilation warnings.\n",
    "\n",
    "  \n",
    "![exercises/exc_images/StartJupyter_2.png](exercises/exc_images/StartJupyter_2.png)  \n",
    "We recommend you to create one notebook per exercise.\n",
    "\n",
    ">**Note**\n",
    ">\n",
    ">**Trouble shooting:** You may get errors like ‘No module named ‘neurodynex’. This is the case when your jupyter notebook does not see the packages you’ve just installed. As a solution, try to re-install jupyter **within** the environment:\n",
    ".. code-block:"
   ]
  },
  {
   "cell_type": "code",
   "execution_count": null,
   "metadata": {
    "hide-output": false
   },
   "outputs": [],
   "source": [
    ">> source activate bmnn\n",
    ">> conda install jupyter"
   ]
  },
  {
   "cell_type": "markdown",
   "metadata": {},
   "source": [
    "## Links\n",
    "\n",
    "Here are some useful links to get started with Python and Brian\n",
    "\n",
    "- [https://www.python.org/about/gettingstarted/](https://www.python.org/about/gettingstarted/)  \n",
    "- [https://brian2.readthedocs.io/en/latest/index.html](https://brian2.readthedocs.io/en/latest/index.html)  \n",
    "- [http://www.scipy.org](http://www.scipy.org)  \n",
    "- [http://Matplotlib.sf.net](http://Matplotlib.sf.net)  "
   ]
  }
 ],
 "metadata": {
  "filename": "setup.rst",
  "kernelspec": {
   "display_name": "Python",
   "language": "python3",
   "name": "python3"
  },
  "title": "Setting up Python and Brian"
 },
 "nbformat": 4,
 "nbformat_minor": 2
}