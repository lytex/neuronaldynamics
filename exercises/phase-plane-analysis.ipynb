{
 "cells": [
  {
   "cell_type": "markdown",
   "metadata": {},
   "source": [
    "# FitzHugh-Nagumo: Phase plane and bifurcation analysis\n",
    "\n",
    "**Book chapters**\n",
    "\n",
    "See [Chapter 4](http://neuronaldynamics.epfl.ch/online/Ch4.html) and especially [Chapter 4 Section 3](http://neuronaldynamics.epfl.ch/online/Ch4.S3.html) for background knowledge on phase plane analysis.\n",
    "\n",
    "**Python classes**\n",
    "\n",
    "In this exercise we study the phase plane of a two dimensional dynamical system implemented in the module `phase_plane_analysis.fitzhugh_nagumo`. To get started, copy the following code block into your Jupyter Notebook. Check the documentation to learn how to use these functions. Make sure you understand the parameters the functions take."
   ]
  },
  {
   "cell_type": "markdown",
   "metadata": {
    "hide-output": false
   },
   "source": [
    "```python\n",
    "%matplotlib inline\n",
    "import brian2 as b2\n",
    "import matplotlib.pyplot as plt\n",
    "import numpy as np\n",
    "from neurodynex.phase_plane_analysis import fitzhugh_nagumo\n",
    "\n",
    "fitzhugh_nagumo.plot_flow()\n",
    "\n",
    "fixed_point = fitzhugh_nagumo.get_fixed_point()\n",
    "print(\"fixed_point: {}\".format(fixed_point))\n",
    "\n",
    "plt.figure()\n",
    "trajectory = fitzhugh_nagumo.get_trajectory()\n",
    "plt.plot(trajectory[0], trajectory[1])\n",
    "```\n"
   ]
  },
  {
   "cell_type": "markdown",
   "metadata": {},
   "source": [
    "## Exercise: Phase plane analysis\n",
    "\n",
    "We have implemented the following Fitzhugh-Nagumo model.\n",
    "\n",
    "\n",
    "<a id='equation-eq1'></a>\n",
    "$$\n",
    "\\left[\\begin{array}{ccll}\n",
    "{\\displaystyle \\frac{du}{dt}} &=& u\\left(1-u^{2}\\right)-w+I \\equiv F(u,w)\\\\[.2cm]\n",
    "{\\displaystyle \\frac{dw}{dt}} &=& \\varepsilon \\left(u -0.5w+1\\right) \\equiv \\varepsilon G(u,w)\\, ,\\\\\n",
    "\\end{array}\\right. \\tag{1}\n",
    "$$"
   ]
  },
  {
   "cell_type": "markdown",
   "metadata": {},
   "source": [
    "### Question\n",
    "\n",
    "Use the function `plt.plot` to plot the two nullclines of the Fitzhugh-Nagumo system given in Eq. [(1)](#equation-eq1) for $ I = 0 $ and $ \\varepsilon=0.1 $.\n",
    "\n",
    "Plot the nullclines in the $ u-w $ plane, for voltages in the region $ u\\in\\left[-2.5,2.5\\right] $.\n",
    "\n",
    ">**Note**\n",
    ">\n",
    ">For instance the following example shows plotting the function\n",
    "$ y(x) = -\\frac{x^2}{2} + x + 1 $:"
   ]
  },
  {
   "cell_type": "markdown",
   "metadata": {
    "hide-output": false
   },
   "source": [
    "```python\n",
    "x = np.arange(-2.5, 2.51, .1)  # create an array of x values\n",
    "y = -x**2 / 2. + x + 1  # calculate the function values for the given x values\n",
    "plt.plot(x, y, color='black')  # plot y as a function of x\n",
    "plt.xlim(-2.5, 2.5)  # constrain the x limits of the plot\n",
    "```\n"
   ]
  },
  {
   "cell_type": "markdown",
   "metadata": {},
   "source": [
    "You can use similar code to plot the nullclines, inserting the appropriate equations.\n",
    "\n",
    "\n",
    "<a id='q-traj'></a>"
   ]
  },
  {
   "cell_type": "markdown",
   "metadata": {},
   "source": [
    "### Question\n",
    "\n",
    "Get the lists `t`, `u` and  `w` by calling `t, u, w = fitzhugh_nagumo.get_trajectory(u_0, w_0, I)` for $ u_0 = 0 $, $ w_0= 0 $ and $ I = 1.3 $. They are corresponding values of $ t $, $ u(t) $ and $ w(t) $ during trajectories starting at the given point $ (u_0,w_0) $ for a given **constant** input current $ I $. Plot the nullclines for this given current and the trajectories into the $ u-w $ plane."
   ]
  },
  {
   "cell_type": "markdown",
   "metadata": {},
   "source": [
    "### Question\n",
    "\n",
    "At this point for the same current $ I $, call the function `plot_flow`, which adds the flow created by the system Eq. [(1)](#equation-eq1) to your plot. This indicates the direction that trajectories will take.\n",
    "\n",
    ">**Note**\n",
    ">\n",
    ">If everything went right so far, the trajectories should follow the flow. First, create a new figure by calling `plt.figure()` and then plot the $ u $ data points from the trajectory obtained in [the previous exercise](#q-traj) on the ordinate.\n",
    "\n",
    "You can do this by using the `plt.plot` function and passing only the array of $ u $ data points:"
   ]
  },
  {
   "cell_type": "markdown",
   "metadata": {
    "hide-output": false
   },
   "source": [
    "```python\n",
    "u = [1,2,3,4]  # example data points of the u trajectory\n",
    "plot(u, color='blue')  # plot will assume that u is the ordinate data\n",
    "```\n"
   ]
  },
  {
   "cell_type": "markdown",
   "metadata": {},
   "source": [
    "\n",
    "<a id='q-traj2'></a>"
   ]
  },
  {
   "cell_type": "markdown",
   "metadata": {},
   "source": [
    "### Question\n",
    "\n",
    "Finally, change the input current in your python file to other values $ I>0 $ and reload it. You might have to first define $ I $ as a variable and then use this variable in all following commands if you did not do so already. At which value of $ I $ do you observe the change in stability of the system?"
   ]
  },
  {
   "cell_type": "markdown",
   "metadata": {},
   "source": [
    "## Exercise: Jacobian & Eigenvalues\n",
    "\n",
    "The linear stability of a system of differential equations can be evaluated by calculating the eigenvalues of the system’s Jacobian at the fixed points. In the following we will graphically explore the linear stability of the fixed point of the system Eq. [(1)](#equation-eq1). We will find that the linear stability changes as the input current crosses a critical value.\n",
    "\n",
    "\n",
    "<a id='q-jac'></a>"
   ]
  },
  {
   "cell_type": "markdown",
   "metadata": {},
   "source": [
    "### Question\n",
    "\n",
    "Set $ \\varepsilon=.1 $ and $ I $ to zero for the moment. Then, the Jacobian of Eq. [(1)](#equation-eq1) as a function of the fixed point is\n",
    "given by\n",
    "\n",
    "$$\n",
    "\\begin{aligned}\n",
    "J\\left(u_{0},w_{0}\\right) & = & \\left.\\left(\\begin{array}{cc}\n",
    "1-3u_0^2 & -1\\\\[5pt]\n",
    "0.1 & -0.05\n",
    "\\end{array}\\right)\\right.\\end{aligned}\n",
    "$$\n",
    "\n",
    "Write a python function `get_jacobian(u_0,w_0)` that returns\n",
    "the Jacobian evaluated for a given fixed point $ (u_0,v_0) $ as a\n",
    "python list.\n",
    "\n",
    ">**Note**\n",
    ">\n",
    ">An example for a function that returns a list\n",
    "corresponding to the matrix $ M(a,b)=\\left(\\begin{array}{cc}\n",
    "a & 1\\\\\n",
    "0 & b\n",
    "\\end{array}\\right) $ is:"
   ]
  },
  {
   "cell_type": "markdown",
   "metadata": {
    "hide-output": false
   },
   "source": [
    "```python\n",
    "def get_M(a,b):\n",
    "        return [[a,1],[0,b]] # return the matrix\n",
    "```\n"
   ]
  },
  {
   "cell_type": "markdown",
   "metadata": {},
   "source": [
    "\n",
    "<a id='q-jac2'></a>"
   ]
  },
  {
   "cell_type": "markdown",
   "metadata": {},
   "source": [
    "### Question\n",
    "\n",
    "The function `u0,w0 = get_fixed_point(I)` gives you the numerical coordinates of the fixed point for a given current $ I $. Use the function you created in [the previous exercise](#q-jac) to evaluate the Jacobian at this fixed point and store it in a new variable `J`.\n",
    "\n",
    "\n",
    "<a id='q-jac3'></a>"
   ]
  },
  {
   "cell_type": "markdown",
   "metadata": {},
   "source": [
    "### Question\n",
    "\n",
    "Calculate the eigenvalues of the Jacobian `J`, which you computed in\n",
    "[the previous exercise](#q-jac2), by using the function `np.linalg.eigvals(J)`. Both should be negative for $ I=0 $."
   ]
  },
  {
   "cell_type": "markdown",
   "metadata": {},
   "source": [
    "## Exercise: Bifurcation analysis\n",
    "\n",
    "Wrap the code you wrote so far by a loop, to calculate the eigenvalues for increasing values of $ I $. Store the changing values of each eigenvalue in seperate lists, and finally plot their real values against $ I $.\n",
    "\n",
    ">**Note**\n",
    ">\n",
    ">> You can start from this example loop:"
   ]
  },
  {
   "cell_type": "markdown",
   "metadata": {
    "hide-output": false
   },
   "source": [
    "```py\n",
    "import numpy as np\n",
    "list1 = []\n",
    "list2 = []\n",
    "currents = np.arange(0,4,.1) # the I values to use\n",
    "for I in currents:\n",
    "    # your code to calculate the eigenvalues e = [e1,e2] for a given I goes here\n",
    "    list1.append(e[0].real) # store each value in a separate list\n",
    "    list2.append(e[1].real)\n",
    "\n",
    "# your code to plot list1 and list 2 against I goes here\n",
    "```\n"
   ]
  },
  {
   "cell_type": "markdown",
   "metadata": {},
   "source": [
    "### Question\n",
    "\n",
    "In what range of $ I $ are the real parts of eigenvalues positive?"
   ]
  },
  {
   "cell_type": "markdown",
   "metadata": {},
   "source": [
    "### Question\n",
    "\n",
    "Compare this [with your earlier result](#q-traj2) for the critical $ I $. What does this imply for the stability of the fixed point? What has become stable in this system instead of the fixed point?"
   ]
  }
 ],
 "metadata": {
  "filename": "phase-plane-analysis.rst",
  "kernelspec": {
   "display_name": "Python",
   "language": "python3",
   "name": "python3"
  },
  "title": "FitzHugh-Nagumo: Phase plane and bifurcation analysis"
 },
 "nbformat": 4,
 "nbformat_minor": 2
}