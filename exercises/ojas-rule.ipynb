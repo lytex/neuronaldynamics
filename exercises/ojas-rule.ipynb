{
 "cells": [
  {
   "cell_type": "markdown",
   "metadata": {},
   "source": [
    "# Oja’s hebbian learning rule\n",
    "\n",
    "**Book chapters**\n",
    "\n",
    "See [Chapter 19 Section 2](http://neuronaldynamics.epfl.ch/online/Ch19.S2.html#SS1.p6) on the learning rule of Oja.\n",
    "\n",
    "![exercises/exc_images/Oja_cloud.png](exercises/exc_images/Oja_cloud.png)Grey points: Datapoints (two presynaptic firing rates, presented sequentially in random order). Colored points:   weight change under Oja’s rule.  \n",
    "**Python classes**\n",
    "\n",
    "The `ojas_rule.oja` module contains all code required for this exercise.\n",
    "At the beginning of your exercise solution file, import the contained functions by"
   ]
  },
  {
   "cell_type": "markdown",
   "metadata": {
    "hide-output": false
   },
   "source": [
    "```py\n",
    "import neurodynex.ojas_rule.oja as oja\n",
    "```\n"
   ]
  },
  {
   "cell_type": "markdown",
   "metadata": {},
   "source": [
    "You can then simply run the exercise functions by executing, e.g."
   ]
  },
  {
   "cell_type": "markdown",
   "metadata": {
    "hide-output": false
   },
   "source": [
    "```py\n",
    "cloud = oja.make_cloud()  # generate data points\n",
    "wcourse = oja.learn(cloud)  # learn weights and return timecourse\n",
    "```\n"
   ]
  },
  {
   "cell_type": "markdown",
   "metadata": {},
   "source": [
    "A complete script using these functions could look like this:"
   ]
  },
  {
   "cell_type": "markdown",
   "metadata": {
    "hide-output": false
   },
   "source": [
    "```py\n",
    "%matplotlib inline  # used for Jupyter Notebook\n",
    "import neurodynex.ojas_rule.oja as oja\n",
    "import matplotlib.pyplot as plt\n",
    "\n",
    "cloud = oja.make_cloud(n=200, ratio=.3, angle=60)\n",
    "wcourse = oja.learn(cloud, initial_angle=-20, eta=0.04)\n",
    "plt.scatter(cloud[:, 0], cloud[:, 1], marker=\".\", alpha=.2)\n",
    "plt.plot(wcourse[-1, 0], wcourse[-1, 1], \"or\", markersize=10)\n",
    "plt.axis('equal')\n",
    "plt.figure()\n",
    "plt.plot(wcourse[:, 0], \"g\")\n",
    "plt.plot(wcourse[:, 1], \"b\")\n",
    "print(\"The final weight vector w is: ({},{})\".format(wcourse[-1,0],wcourse[-1,1]))\n",
    "```\n"
   ]
  },
  {
   "cell_type": "markdown",
   "metadata": {},
   "source": [
    "## Exercise: getting started\n",
    "\n",
    "The figure below shows the configuration of a neuron learning from the joint input of two presynaptic neurons. Run the above script. Make sure you understand what the functions are doing."
   ]
  },
  {
   "cell_type": "markdown",
   "metadata": {},
   "source": [
    "### Question: The norm of the weights\n",
    "\n",
    "- Run the script with a large learning rate eta = 0.2. What do you observe?  \n",
    "- Modify the script: plot the time course of the norm of the weights vector.  \n",
    "\n",
    "\n",
    "![exercises/exc_images/Oja_setup.png](exercises/exc_images/Oja_setup.png)One linear neuron gets input from two presynaptic neurons.  "
   ]
  },
  {
   "cell_type": "markdown",
   "metadata": {},
   "source": [
    "## Exercise: Circular data\n",
    "\n",
    "Now we study Oja’s rule on a data set which has no correlations.\n",
    "Use the functions `make_cloud` and `learn` to get the timecourse for weights that are learned on a **circular** data cloud (`ratio=1`). Plot the time course\n",
    "of both components of the weight vector. Repeat this many times (`learn` will choose random initial conditions on each run), and plot this into the same plot. Can you explain what happens? Try different learning rates eta."
   ]
  },
  {
   "cell_type": "markdown",
   "metadata": {},
   "source": [
    "## Exercise: What is the neuron leaning?\n",
    "\n",
    "- Repeat the previous question with an **elongated** elliptic data cloud (e.g. `ratio=0.3`). Again, repeat this several times.  \n",
    "- What difference in terms of learning do you observe with respect to the circular data clouds?  \n",
    "- The “goal” of the neuron is not to change weights, but to produce a meaningful output y. After learning, what does the output y tell about the input?  \n",
    "- Take the final weights [w31, w32], then calculate a single input vector (v1=?, v2=?) that leads to a **maximal** output firing y. Constrain your input to norm([v1,v2]) =1.  \n",
    "- Calculate an input which leads to a **minimal** output firing y.  "
   ]
  },
  {
   "cell_type": "markdown",
   "metadata": {},
   "source": [
    "## Exercise: Non-centered data\n",
    "\n",
    "The above exercises assume that the input activities can be negative (indeed the inputs were always statistically centered). In actual neurons, if we think of their activity as their firing rate, this cannot be less than zero.\n",
    "\n",
    "Try again the previous exercise, but applying the learning rule on a noncentered data cloud. E.g., use `cloud = (3,5) + oja.make_cloud(n=1000, ratio=.4, angle=-45)`, which centers the data around `(3,5)`. What conclusions can you draw? Can you think of a modification to the learning rule?"
   ]
  },
  {
   "cell_type": "markdown",
   "metadata": {},
   "source": [
    "## Bonus: 3 D\n",
    "\n",
    "By modifying the source code of the given functions, try to visualize learning from a 3 dimensional time series. Here’s an example of a 3D scatter plot: [scatter3d](http://matplotlib.org/examples/mplot3d/scatter3d_demo.html)\n",
    "\n",
    "![exercises/exc_images/Oja_3D.png](exercises/exc_images/Oja_3D.png)Learning from a 3D input.  "
   ]
  }
 ],
 "metadata": {
  "filename": "ojas-rule.rst",
  "kernelspec": {
   "display_name": "Python",
   "language": "python3",
   "name": "python3"
  },
  "title": "Oja’s hebbian learning rule"
 },
 "nbformat": 4,
 "nbformat_minor": 2
}